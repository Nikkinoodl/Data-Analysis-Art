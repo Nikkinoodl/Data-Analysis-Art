{
 "cells": [
  {
   "cell_type": "markdown",
   "id": "03ea17a8-b6f2-4959-9cba-e7476c16dcc5",
   "metadata": {},
   "source": [
    "# A Polynomial Regression Analysis of PBSB Artwork Data\n",
    "This analysis uses ploynomial regression to answer the following question: Can we estimate the price of a portrait?\n",
    "\n",
    "Data wrangling performed in previous analyses is repeated here with minimal explanation. Some additional pre-processing of the input data was done in Excel. This dataset uses data at the order line level of detail which gives better visibility into individual pieces of art."
   ]
  },
  {
   "cell_type": "markdown",
   "id": "7e729f13-bda8-4273-99c8-dd89532746fc",
   "metadata": {},
   "source": [
    "## Import libraries"
   ]
  },
  {
   "cell_type": "code",
   "execution_count": 1,
   "id": "fb267bac-ec19-4e5d-b44e-85af230f5ab2",
   "metadata": {},
   "outputs": [],
   "source": [
    "import pandas as pd\n",
    "import matplotlib.pyplot as plt\n",
    "import seaborn as sns\n",
    "import re\n",
    "import numpy as np\n",
    "\n",
    "# Machine learning and logistic regression libraries\n",
    "from sklearn import preprocessing\n",
    "from sklearn.pipeline import Pipeline\n",
    "from sklearn.metrics import r2_score\n",
    "from sklearn.metrics import mean_squared_error\n",
    "from sklearn.preprocessing import StandardScaler,PolynomialFeatures\n",
    "from sklearn.model_selection import train_test_split\n",
    "from sklearn.linear_model import LinearRegression\n"
   ]
  },
  {
   "cell_type": "markdown",
   "id": "0dee2753-5c61-4034-9401-3e402e1c693b",
   "metadata": {},
   "source": [
    "## Import Excel file"
   ]
  },
  {
   "cell_type": "code",
   "execution_count": 2,
   "id": "df27f97a-3e98-4aa0-997d-0078efe6c1e6",
   "metadata": {},
   "outputs": [
    {
     "data": {
      "text/html": [
       "<div>\n",
       "<style scoped>\n",
       "    .dataframe tbody tr th:only-of-type {\n",
       "        vertical-align: middle;\n",
       "    }\n",
       "\n",
       "    .dataframe tbody tr th {\n",
       "        vertical-align: top;\n",
       "    }\n",
       "\n",
       "    .dataframe thead th {\n",
       "        text-align: right;\n",
       "    }\n",
       "</style>\n",
       "<table border=\"1\" class=\"dataframe\">\n",
       "  <thead>\n",
       "    <tr style=\"text-align: right;\">\n",
       "      <th></th>\n",
       "      <th>CustomerID</th>\n",
       "      <th>PortraitID</th>\n",
       "      <th>ServiceType</th>\n",
       "      <th>PortraitSubject</th>\n",
       "      <th>NumSubjects</th>\n",
       "      <th>Medium</th>\n",
       "      <th>SaleDate</th>\n",
       "      <th>Size</th>\n",
       "      <th>Frame</th>\n",
       "      <th>CompletedDate</th>\n",
       "      <th>ActualTime</th>\n",
       "      <th>Price</th>\n",
       "      <th>PromisedBy</th>\n",
       "    </tr>\n",
       "  </thead>\n",
       "  <tbody>\n",
       "    <tr>\n",
       "      <th>0</th>\n",
       "      <td>8</td>\n",
       "      <td>10</td>\n",
       "      <td>Commission</td>\n",
       "      <td>People</td>\n",
       "      <td>1.0</td>\n",
       "      <td>Graphite</td>\n",
       "      <td>2003-04-01</td>\n",
       "      <td>11x14</td>\n",
       "      <td>NaN</td>\n",
       "      <td>2003-04-15</td>\n",
       "      <td>16</td>\n",
       "      <td>0.0</td>\n",
       "      <td>2003-04-15</td>\n",
       "    </tr>\n",
       "    <tr>\n",
       "      <th>1</th>\n",
       "      <td>6</td>\n",
       "      <td>12</td>\n",
       "      <td>Commission</td>\n",
       "      <td>House/dwelling</td>\n",
       "      <td>1.0</td>\n",
       "      <td>Pen &amp; Ink / Watercolor</td>\n",
       "      <td>2003-04-01</td>\n",
       "      <td>11x14</td>\n",
       "      <td>NaN</td>\n",
       "      <td>NaT</td>\n",
       "      <td>5</td>\n",
       "      <td>0.0</td>\n",
       "      <td>NaT</td>\n",
       "    </tr>\n",
       "    <tr>\n",
       "      <th>2</th>\n",
       "      <td>26</td>\n",
       "      <td>62</td>\n",
       "      <td>Commission</td>\n",
       "      <td>Dog</td>\n",
       "      <td>1.0</td>\n",
       "      <td>Acrylic</td>\n",
       "      <td>2003-10-06</td>\n",
       "      <td>11x14</td>\n",
       "      <td>NaN</td>\n",
       "      <td>2003-11-09</td>\n",
       "      <td>4</td>\n",
       "      <td>0.0</td>\n",
       "      <td>2003-11-30</td>\n",
       "    </tr>\n",
       "    <tr>\n",
       "      <th>3</th>\n",
       "      <td>68</td>\n",
       "      <td>116</td>\n",
       "      <td>Commission</td>\n",
       "      <td>Dog</td>\n",
       "      <td>1.0</td>\n",
       "      <td>Pastel</td>\n",
       "      <td>2004-10-10</td>\n",
       "      <td>16x20</td>\n",
       "      <td>NaN</td>\n",
       "      <td>NaT</td>\n",
       "      <td>0</td>\n",
       "      <td>0.0</td>\n",
       "      <td>NaT</td>\n",
       "    </tr>\n",
       "    <tr>\n",
       "      <th>4</th>\n",
       "      <td>86</td>\n",
       "      <td>137</td>\n",
       "      <td>Commission</td>\n",
       "      <td>Dog</td>\n",
       "      <td>1.0</td>\n",
       "      <td>Oil</td>\n",
       "      <td>2005-06-08</td>\n",
       "      <td>24x30</td>\n",
       "      <td>NaN</td>\n",
       "      <td>NaT</td>\n",
       "      <td>0</td>\n",
       "      <td>0.0</td>\n",
       "      <td>2005-09-30</td>\n",
       "    </tr>\n",
       "  </tbody>\n",
       "</table>\n",
       "</div>"
      ],
      "text/plain": [
       "   CustomerID  PortraitID ServiceType PortraitSubject  NumSubjects  \\\n",
       "0           8          10  Commission          People          1.0   \n",
       "1           6          12  Commission  House/dwelling          1.0   \n",
       "2          26          62  Commission             Dog          1.0   \n",
       "3          68         116  Commission             Dog          1.0   \n",
       "4          86         137  Commission             Dog          1.0   \n",
       "\n",
       "                   Medium   SaleDate   Size Frame CompletedDate  ActualTime  \\\n",
       "0                Graphite 2003-04-01  11x14   NaN    2003-04-15          16   \n",
       "1  Pen & Ink / Watercolor 2003-04-01  11x14   NaN           NaT           5   \n",
       "2                 Acrylic 2003-10-06  11x14   NaN    2003-11-09           4   \n",
       "3                  Pastel 2004-10-10  16x20   NaN           NaT           0   \n",
       "4                     Oil 2005-06-08  24x30   NaN           NaT           0   \n",
       "\n",
       "   Price PromisedBy  \n",
       "0    0.0 2003-04-15  \n",
       "1    0.0        NaT  \n",
       "2    0.0 2003-11-30  \n",
       "3    0.0        NaT  \n",
       "4    0.0 2005-09-30  "
      ]
     },
     "execution_count": 2,
     "metadata": {},
     "output_type": "execute_result"
    }
   ],
   "source": [
    "# Define the URL of the dataset - in this case we are using a dataset that has been uploaded to OneDrive and shared\n",
    "#file_path = 'C:\\\\Users\\\\simon\\\\OneDrive\\\\Documents\\\\Data Analysis\\\\Art\\\\Artwork-Items.xlsx'\n",
    "\n",
    "# Load the dataset into a DataFrame\n",
    "df = pd.read_excel('Data/Artwork-Items-Reg.xlsx')\n",
    "\n",
    "# Display the first few rows to ensure it loaded correctly\n",
    "df.head()"
   ]
  },
  {
   "cell_type": "markdown",
   "id": "784d0d43-03fe-41fd-aa9b-fff51bf57d66",
   "metadata": {},
   "source": [
    "## Basic Data Cleanup\n",
    "Unlike the price data used in previous analyses, the item price data is already formatted as a number and doesn't need further manipulation. There are still some rows with missing values which must be removed."
   ]
  },
  {
   "cell_type": "code",
   "execution_count": 3,
   "id": "52206125-923d-46ca-9d95-3497e6824bcf",
   "metadata": {},
   "outputs": [],
   "source": [
    "# Drop the rows with no order date and no sale type\n",
    "df = df.dropna(subset=['SaleDate'])"
   ]
  },
  {
   "cell_type": "code",
   "execution_count": 4,
   "id": "24ed41f2-70ff-4ac8-a544-6c200db3bdb4",
   "metadata": {},
   "outputs": [],
   "source": [
    "# Filter out rows with 'Price' == 0 or 'ActualTime' == 0\n",
    "df = df[(df['Price'] > 100)]\n",
    "df = df[(df['ActualTime'] > 0)]"
   ]
  },
  {
   "cell_type": "code",
   "execution_count": 5,
   "id": "8892daef-38e7-44d1-87e7-12b130d4d044",
   "metadata": {},
   "outputs": [],
   "source": [
    "# Filter out any records which dont have 'ServiceType' == 'Commission' or 'ServiceType' == 'Artwork sale'\n",
    "df = df[(df['ServiceType'] == 'Commission') | (df['ServiceType'] == 'Artwork sale')] "
   ]
  },
  {
   "cell_type": "code",
   "execution_count": 6,
   "id": "0ed091c2-0859-4352-a215-64e0d08100fd",
   "metadata": {},
   "outputs": [
    {
     "data": {
      "text/html": [
       "<div>\n",
       "<style scoped>\n",
       "    .dataframe tbody tr th:only-of-type {\n",
       "        vertical-align: middle;\n",
       "    }\n",
       "\n",
       "    .dataframe tbody tr th {\n",
       "        vertical-align: top;\n",
       "    }\n",
       "\n",
       "    .dataframe thead th {\n",
       "        text-align: right;\n",
       "    }\n",
       "</style>\n",
       "<table border=\"1\" class=\"dataframe\">\n",
       "  <thead>\n",
       "    <tr style=\"text-align: right;\">\n",
       "      <th></th>\n",
       "      <th>CustomerID</th>\n",
       "      <th>PortraitID</th>\n",
       "      <th>ServiceType</th>\n",
       "      <th>PortraitSubject</th>\n",
       "      <th>NumSubjects</th>\n",
       "      <th>Medium</th>\n",
       "      <th>SaleDate</th>\n",
       "      <th>Size</th>\n",
       "      <th>Frame</th>\n",
       "      <th>CompletedDate</th>\n",
       "      <th>ActualTime</th>\n",
       "      <th>Price</th>\n",
       "      <th>PromisedBy</th>\n",
       "    </tr>\n",
       "  </thead>\n",
       "  <tbody>\n",
       "    <tr>\n",
       "      <th>114</th>\n",
       "      <td>311</td>\n",
       "      <td>624</td>\n",
       "      <td>Artwork sale</td>\n",
       "      <td>NaN</td>\n",
       "      <td>0.0</td>\n",
       "      <td>NaN</td>\n",
       "      <td>2019-11-10 00:00:00</td>\n",
       "      <td>6x12</td>\n",
       "      <td>Framed</td>\n",
       "      <td>2019-03-31</td>\n",
       "      <td>8</td>\n",
       "      <td>113.53</td>\n",
       "      <td>NaT</td>\n",
       "    </tr>\n",
       "    <tr>\n",
       "      <th>116</th>\n",
       "      <td>208</td>\n",
       "      <td>304</td>\n",
       "      <td>Artwork sale</td>\n",
       "      <td>Landscape</td>\n",
       "      <td>0.0</td>\n",
       "      <td>Oil</td>\n",
       "      <td>2011-10-02 15:15:15</td>\n",
       "      <td>18x28</td>\n",
       "      <td>NaN</td>\n",
       "      <td>2010-08-31</td>\n",
       "      <td>20</td>\n",
       "      <td>120.00</td>\n",
       "      <td>NaT</td>\n",
       "    </tr>\n",
       "    <tr>\n",
       "      <th>117</th>\n",
       "      <td>215</td>\n",
       "      <td>370</td>\n",
       "      <td>Artwork sale</td>\n",
       "      <td>Landscape</td>\n",
       "      <td>0.0</td>\n",
       "      <td>Oil</td>\n",
       "      <td>2014-05-25 15:44:54</td>\n",
       "      <td>6x8</td>\n",
       "      <td>NaN</td>\n",
       "      <td>2014-03-30</td>\n",
       "      <td>2</td>\n",
       "      <td>120.00</td>\n",
       "      <td>NaT</td>\n",
       "    </tr>\n",
       "    <tr>\n",
       "      <th>118</th>\n",
       "      <td>21</td>\n",
       "      <td>68</td>\n",
       "      <td>Commission</td>\n",
       "      <td>Person</td>\n",
       "      <td>1.0</td>\n",
       "      <td>Color Pencil</td>\n",
       "      <td>2003-11-15 00:00:00</td>\n",
       "      <td>8x10</td>\n",
       "      <td>NaN</td>\n",
       "      <td>2003-12-07</td>\n",
       "      <td>8</td>\n",
       "      <td>125.00</td>\n",
       "      <td>2003-12-15</td>\n",
       "    </tr>\n",
       "    <tr>\n",
       "      <th>120</th>\n",
       "      <td>254</td>\n",
       "      <td>383</td>\n",
       "      <td>Artwork sale</td>\n",
       "      <td>Landscape</td>\n",
       "      <td>0.0</td>\n",
       "      <td>Oil</td>\n",
       "      <td>2014-06-22 09:16:00</td>\n",
       "      <td>10x8</td>\n",
       "      <td>NaN</td>\n",
       "      <td>2014-06-15</td>\n",
       "      <td>4</td>\n",
       "      <td>125.00</td>\n",
       "      <td>NaT</td>\n",
       "    </tr>\n",
       "  </tbody>\n",
       "</table>\n",
       "</div>"
      ],
      "text/plain": [
       "     CustomerID  PortraitID   ServiceType PortraitSubject  NumSubjects  \\\n",
       "114         311         624  Artwork sale             NaN          0.0   \n",
       "116         208         304  Artwork sale       Landscape          0.0   \n",
       "117         215         370  Artwork sale       Landscape          0.0   \n",
       "118          21          68    Commission          Person          1.0   \n",
       "120         254         383  Artwork sale       Landscape          0.0   \n",
       "\n",
       "           Medium            SaleDate   Size   Frame CompletedDate  \\\n",
       "114           NaN 2019-11-10 00:00:00   6x12  Framed    2019-03-31   \n",
       "116           Oil 2011-10-02 15:15:15  18x28     NaN    2010-08-31   \n",
       "117           Oil 2014-05-25 15:44:54    6x8     NaN    2014-03-30   \n",
       "118  Color Pencil 2003-11-15 00:00:00   8x10     NaN    2003-12-07   \n",
       "120           Oil 2014-06-22 09:16:00   10x8     NaN    2014-06-15   \n",
       "\n",
       "     ActualTime   Price PromisedBy  \n",
       "114           8  113.53        NaT  \n",
       "116          20  120.00        NaT  \n",
       "117           2  120.00        NaT  \n",
       "118           8  125.00 2003-12-15  \n",
       "120           4  125.00        NaT  "
      ]
     },
     "execution_count": 6,
     "metadata": {},
     "output_type": "execute_result"
    }
   ],
   "source": [
    "df.head()"
   ]
  },
  {
   "cell_type": "markdown",
   "id": "2cbf1167-1225-4da6-858f-efae2c11ecf9",
   "metadata": {},
   "source": [
    "## Data Transformation"
   ]
  },
  {
   "cell_type": "markdown",
   "id": "f215893a-efc7-4b2c-be03-9478af898d35",
   "metadata": {},
   "source": [
    "The source data has been cleaned up since previous analyses and obvious outliers were corrected."
   ]
  },
  {
   "cell_type": "markdown",
   "id": "d79aac43-3838-410e-b9ff-f20ddb83038f",
   "metadata": {},
   "source": [
    "### Extract 'Year'\n",
    "Since the SaleDate column is already in date/time format, the Year can be extracted directly."
   ]
  },
  {
   "cell_type": "code",
   "execution_count": 7,
   "id": "788fb6be-0cf3-4c06-a4eb-230fc038c3bf",
   "metadata": {},
   "outputs": [],
   "source": [
    "# Create a Year column\n",
    "df['Year'] = df['SaleDate'].dt.year.astype(int)"
   ]
  },
  {
   "cell_type": "markdown",
   "id": "0db19770-e0d9-4f4e-a0e0-3921920d845c",
   "metadata": {},
   "source": [
    "### Calculate 'Area' for each item where possible\n",
    "Use data in the 'Size' column to calculate the area of each painting in square incheas."
   ]
  },
  {
   "cell_type": "code",
   "execution_count": 8,
   "id": "42677163-aa19-402b-8a88-8d5064935e38",
   "metadata": {},
   "outputs": [
    {
     "name": "stdout",
     "output_type": "stream",
     "text": [
      "114     72.0\n",
      "116    504.0\n",
      "117     48.0\n",
      "118     80.0\n",
      "120     80.0\n",
      "Name: Area, dtype: float64\n"
     ]
    }
   ],
   "source": [
    "# Function to calculate area from 'Size' column\n",
    "def calculate_area(size):\n",
    "    if pd.isna(size):\n",
    "        return None  \n",
    "    try:\n",
    "        # Convert the value to a string\n",
    "        size_str = str(size)\n",
    "        # Use regular expression to find the first pair of numbers (including decimals)\n",
    "        match = re.search(r'(\\d+(\\.\\d+)?)\\s*[xX*]\\s*(\\d+(\\.\\d+)?)', size_str)\n",
    "        if match:\n",
    "            height, width = map(float, match.groups()[::2])  # Extract only the numeric parts\n",
    "            return height * width\n",
    "        else:\n",
    "            return None  # Handle cases where the size format is incorrect\n",
    "    except ValueError:\n",
    "        return None  # Handle cases where the size format is incorrect\n",
    "\n",
    "# Apply the function to the 'Size' column and create a new 'Area' column\n",
    "df['Area'] = df['Size'].apply(calculate_area)\n",
    "\n",
    "# Display the DataFrame with the new 'Area' column\n",
    "print(df['Area'].head())\n",
    "\n"
   ]
  },
  {
   "cell_type": "markdown",
   "id": "705952df-f304-4e23-98f3-16c945c97f17",
   "metadata": {},
   "source": [
    "### Remove Records With 'Area' == null"
   ]
  },
  {
   "cell_type": "code",
   "execution_count": 9,
   "id": "61dacbe8-ac0b-49fb-a34f-c96c0da91904",
   "metadata": {},
   "outputs": [],
   "source": [
    "# Drop any records that don't have a useable 'Area'\n",
    "df = df.dropna(subset=['Area'])"
   ]
  },
  {
   "cell_type": "markdown",
   "id": "97055e20-92d3-4d42-99c2-52b0dd6ff283",
   "metadata": {},
   "source": [
    "### Create a Price Per Hour Feature and a Price Per Area Feature"
   ]
  },
  {
   "cell_type": "code",
   "execution_count": 10,
   "id": "fd4e058d-92c9-4a74-a7f8-0a90ff363a1f",
   "metadata": {},
   "outputs": [],
   "source": [
    "df['Price_Per_Hour'] = df['Price']/df['ActualTime']\n",
    "df['Price_Per_Area'] = df['Price']/df['Area']"
   ]
  },
  {
   "cell_type": "markdown",
   "id": "e7df2b71-5064-481a-b340-f6b2a4218e0e",
   "metadata": {},
   "source": [
    "### Separate Out Commissioned Portraits\n",
    "Create a dataframe that only contains commissioned paintings."
   ]
  },
  {
   "cell_type": "code",
   "execution_count": 11,
   "id": "163f5cf6-0e9b-4331-862e-15a6ffbcb396",
   "metadata": {},
   "outputs": [],
   "source": [
    "df_commission = df[df['ServiceType'] == 'Commission']\n",
    "df_retail = df[df['ServiceType'] == 'Artwork sale']"
   ]
  },
  {
   "cell_type": "markdown",
   "id": "e70f0786-28bf-4e5b-8cad-72acfc73a93b",
   "metadata": {},
   "source": [
    "### Drop Commission Records with Missing Dates"
   ]
  },
  {
   "cell_type": "code",
   "execution_count": 12,
   "id": "2fc25959-1c11-412c-8ce8-5bffaea54592",
   "metadata": {},
   "outputs": [],
   "source": [
    "# drop any commission records with missing dates\n",
    "df_commission = df_commission.dropna(subset=['CompletedDate'])"
   ]
  },
  {
   "cell_type": "markdown",
   "id": "ebfb3c8a-02d1-49cb-b84e-bc30db5e3e3d",
   "metadata": {},
   "source": [
    "### Filter Out Mediums Other Than Oil and Pastel\n",
    "The choice of medium has an impact on pricing and time taken to complete. We're just interested in oil and pastel portraits for this analysis as they make up the bulk of the studio output."
   ]
  },
  {
   "cell_type": "code",
   "execution_count": 13,
   "id": "83102270-03a0-4135-9402-90cd1d657052",
   "metadata": {},
   "outputs": [],
   "source": [
    "# Filter out values that don't start with 'Oil' or 'Pastel'\n",
    "df_commission = df_commission[df_commission['Medium'].str.match(r'^(Oil|Pastel)', na=False)]"
   ]
  },
  {
   "cell_type": "markdown",
   "id": "bb47d478-2268-4eaa-acea-d94a2324418c",
   "metadata": {},
   "source": [
    "### Remove Commission Records With no Subjects"
   ]
  },
  {
   "cell_type": "code",
   "execution_count": 14,
   "id": "93218ef1-4808-42d2-806d-e34279c2399a",
   "metadata": {},
   "outputs": [],
   "source": [
    "df_commission = df[df['NumSubjects'] > 0]"
   ]
  },
  {
   "cell_type": "markdown",
   "id": "858ec2a7-18bd-45d0-b24c-f0d0be275d06",
   "metadata": {},
   "source": [
    "## Linear Multi Regression"
   ]
  },
  {
   "cell_type": "markdown",
   "id": "a2a29055-e5bb-4b14-a340-382525b2721b",
   "metadata": {},
   "source": [
    "### Can We Predict the Price of a Dog Portrait?\n",
    "I have more data relating to dog portraits than those of other subjects, so it's natural choice to make them the target for this analysis.\n",
    "\n",
    "I tend to price portraits based on a combination of my historical data and a rough assessment of how difficult I assess they will be to complete. In the absence of a 'difficulty' rating, we'll examine the correlation between year, area, number of subjects and price. This requires a multi-valued linear regression."
   ]
  },
  {
   "cell_type": "code",
   "execution_count": 15,
   "id": "6510154a-030a-4c9b-aabc-8a082d68dabf",
   "metadata": {},
   "outputs": [],
   "source": [
    "# Filter all portraits out of the dataframe except for those of Dogs\n",
    "df_dog = df_commission[(df_commission['PortraitSubject'] == 'Dog')]"
   ]
  },
  {
   "cell_type": "markdown",
   "id": "324c7a78-2940-4647-8d9c-1f085bf48369",
   "metadata": {},
   "source": [
    "First, we'll do a check check to confirm my suspicion that Price vs. Year doesn't provide a meaningful regression line."
   ]
  },
  {
   "cell_type": "code",
   "execution_count": 16,
   "id": "795bebe1-d07a-4346-9b93-7fd70a9b8f2d",
   "metadata": {},
   "outputs": [
    {
     "data": {
      "image/png": "[encoded data removed]",
      "text/plain": [
       "<Figure size 640x480 with 1 Axes>"
      ]
     },
     "metadata": {},
     "output_type": "display_data"
    }
   ],
   "source": [
    "sns.regplot(\n",
    "    x='Year',\n",
    "    y='Price',\n",
    "    data=df_commission\n",
    ")\n",
    "plt.title('Linear Regression of Price vs Year for Dog Portraits')\n",
    "\n",
    "# Save the plot as a PNG file\n",
    "plt.savefig('Graphics/price_vs_year.png', format='png', dpi=300)\n",
    "\n",
    "plt.show()"
   ]
  },
  {
   "cell_type": "markdown",
   "id": "1ba2cd34-3c64-4495-9add-49adddd7876d",
   "metadata": {},
   "source": [
    "That's a relationship that clearly not going to provide us with any meaningful insights.\n",
    "\n",
    "However, I do have an idea what to focus on. Prices tend to be higher for larger canvas sizes (for example, I might be painting a whole body rather than just a head and shoulders portrait), and prices tend to be higher for multi-subject portraits (it takes more effort to paint two dogs than it does to paint one). In addition, prices are likely to increase over time. We can therefore plot:\n",
    "\n",
    "1. Price per Area vs Year\n",
    "2. Price per Head vs Year\n",
    "\n",
    "One further thing:\n",
    "\n",
    "In 2010 or so, I started doing two grades of portrait—a sketch portrait that went for about 400 USD per head and a formal portrait that started at around 700-800 USD. The data won't make much sense with the sketch portraits included, so I will remove them.\n",
    "\n",
    "Before this, I didn't *officially* do sketch vs. formal portraits, but in truth I did this on an informal basis. So for portraits prior to 2010, I will also remove these lower cost portraits from the mix.  In both cases, I'll set the cutoff higher than is strictly necessary so that I also filter out some noise."
   ]
  },
  {
   "cell_type": "code",
   "execution_count": 17,
   "id": "4c2c369e-4b82-4285-8652-8513d41efe95",
   "metadata": {},
   "outputs": [
    {
     "name": "stderr",
     "output_type": "stream",
     "text": [
      "C:\\Users\\simon\\AppData\\Local\\Temp\\ipykernel_8400\\1756472910.py:2: SettingWithCopyWarning: \n",
      "A value is trying to be set on a copy of a slice from a DataFrame.\n",
      "Try using .loc[row_indexer,col_indexer] = value instead\n",
      "\n",
      "See the caveats in the documentation: https://pandas.pydata.org/pandas-docs/stable/user_guide/indexing.html#returning-a-view-versus-a-copy\n",
      "  df_dog.loc[:, 'Price_Per_Head'] = df_dog['Price']/df_dog['NumSubjects']\n"
     ]
    }
   ],
   "source": [
    "# Calculate price per subject. We already know that there are no zeros remaining in the NumSubjects column.\n",
    "df_dog.loc[:, 'Price_Per_Head'] = df_dog['Price']/df_dog['NumSubjects']\n",
    "\n",
    "# Calculate price per area. We already know that there are no zeros remaining in the Area column.\n",
    "df_dog.loc[:, 'Price_Per_Area'] = df_dog['Price']/df_dog['Area']\n",
    "\n",
    "# Remove rows where Price_Per_Head is less than 400 and Year is greater than 2009\n",
    "df_temp = df_dog[~((df_dog['Price_Per_Head'] < 601) & (df_dog['Year'] > 2009))]\n",
    "\n",
    "# Remove rows where Price_Per_Head is less than 350 and Year is less than 2010\n",
    "df_filtered = df_temp[~((df_temp['Price_Per_Head'] < 401) & (df_temp['Year'] < 2010))]\n"
   ]
  },
  {
   "cell_type": "markdown",
   "id": "00109f25-e43a-4377-895f-e8cb2a194ab0",
   "metadata": {},
   "source": [
    "Before we start a more complex regression, let's plot the relationships between the variables."
   ]
  },
  {
   "cell_type": "code",
   "execution_count": 18,
   "id": "1c7b6a67-bac5-4f50-bf06-689cefd05fef",
   "metadata": {},
   "outputs": [
    {
     "data": {
      "image/png": "[encoded data removed]",
      "text/plain": [
       "<Figure size 1200x800 with 2 Axes>"
      ]
     },
     "metadata": {},
     "output_type": "display_data"
    }
   ],
   "source": [
    "fig, axs = plt.subplots(2, 1, figsize=(12, 8))\n",
    "\n",
    "sns.regplot(\n",
    "    x='Year',\n",
    "    y='Price_Per_Area',\n",
    "    data=df_filtered,\n",
    "    ax=axs[0]\n",
    ")\n",
    "axs[0].set_title('Portrait Price (Dog) vs. Canvas Area')\n",
    "\n",
    "sns.regplot(\n",
    "    x='Year',\n",
    "    y='Price_Per_Head',\n",
    "    data= df_filtered,\n",
    "    ax=axs[1]\n",
    ")\n",
    "axs[1].set_title('Portrait Price per Head vs. Year')\n",
    "\n",
    "plt.tight_layout()\n",
    "\n",
    "# Save the plot as a PNG file\n",
    "plt.savefig('Graphics/price_per_area_per_head_vs_year.png', format='png', dpi=300)\n",
    "\n",
    "plt.show()"
   ]
  },
  {
   "cell_type": "markdown",
   "id": "343469ef-c784-494a-b658-f69bc4b22fac",
   "metadata": {},
   "source": [
    "Based on these plots, we can relate price, area, number of subjects and year. Now we can try a multi-variable linear regression. "
   ]
  },
  {
   "cell_type": "code",
   "execution_count": 19,
   "id": "fffd0f26-bb02-4201-81fc-47a44eb7ec44",
   "metadata": {},
   "outputs": [
    {
     "name": "stdout",
     "output_type": "stream",
     "text": [
      "The R2 value is:  0.8678301344450077\n",
      "The intercept is: -52433.1759966182\n",
      "The coefficient for Year is 26.194149928731722\n",
      "The coefficient for Area is 0.12031041246223617\n",
      "The coefficient for NumSubjects is 452.2857750676249\n"
     ]
    }
   ],
   "source": [
    "#Fit linear regression to predict price using list of features\n",
    "x1=df_filtered[['Year', 'Area', 'NumSubjects']]\n",
    "y1=df_filtered['Price']\n",
    "lre_multi=LinearRegression()\n",
    "lre_multi.fit(x1, y1)\n",
    "print('The R2 value is: ', lre_multi.score(x1,y1))\n",
    "\n",
    "# Get the intercept\n",
    "intercept = lre_multi.intercept_\n",
    "print(f\"The intercept is: {intercept}\")\n",
    "\n",
    "# Get the coefficients\n",
    "coefficients = lre_multi.coef_\n",
    "\n",
    "# Display the coefficients\n",
    "for feature, coef in zip(x1.columns, coefficients):\n",
    "    print(f\"The coefficient for {feature} is {coef}\")"
   ]
  },
  {
   "cell_type": "markdown",
   "id": "465ec8be-9115-4243-8093-1cb6ac9afd6a",
   "metadata": {},
   "source": [
    "That produces a strong correlation. Let's estimate the cost of a two dog portrait on a 20x24 canvas in 2025 using the coefficients that were calculated above:"
   ]
  },
  {
   "cell_type": "code",
   "execution_count": 20,
   "id": "dc11597a-03c1-426e-b043-401a7d8f708b",
   "metadata": {},
   "outputs": [
    {
     "name": "stdout",
     "output_type": "stream",
     "text": [
      "The predicted price is : $ 1572.3\n"
     ]
    }
   ],
   "source": [
    "# Put data into variables\n",
    "year = 2025\n",
    "area = 20 * 24\n",
    "num_subjects = 2\n",
    "\n",
    "# Predict price\n",
    "price = intercept + coefficients[0] * year + coefficients[1] * area + coefficients[2] * num_subjects\n",
    "\n",
    "print('The predicted price is : $', price.round(2))"
   ]
  },
  {
   "cell_type": "markdown",
   "id": "268f7b53-23f2-4808-8b64-84b4eadac917",
   "metadata": {},
   "source": [
    "Which is in the right ballpark, although a little lower than I would like it to be."
   ]
  },
  {
   "cell_type": "markdown",
   "id": "ffc299c1-e5f2-4317-886b-56737c7b7a2f",
   "metadata": {},
   "source": [
    "## Polynomial Regression\n",
    "While straight line fitting looks good, I want to examine what might obtain by polynomial curve fitting.\n",
    "\n",
    "To that end, we'll try training against a range of polynomial degrees and look at the root mean square error of each. To reduce the risk of overfitting, we'll then see what order of polynomial is optimal when we fit it to an out-of-sample test set."
   ]
  },
  {
   "cell_type": "code",
   "execution_count": 21,
   "id": "db0748fe-470a-4554-9a07-72861195d587",
   "metadata": {},
   "outputs": [],
   "source": [
    "X_train, X_test, y_train, y_test = train_test_split(x1, y1, test_size=0.15, random_state=10)"
   ]
  },
  {
   "cell_type": "code",
   "execution_count": 22,
   "id": "9fbd87fc-2db2-4bbf-9296-4449776c1c52",
   "metadata": {},
   "outputs": [],
   "source": [
    "def build_polynomial_models(X_train, y_train, X_test, y_test, max_degree):\n",
    "    \n",
    "    train_RMSE_list = []\n",
    "    test_RMSE_list = []\n",
    " \n",
    "    # runs from degree = 1 to max_degree\n",
    "    for degree in range(1, max_degree+1):\n",
    " \n",
    "        pipeline_steps = [\n",
    "            ('poly', PolynomialFeatures(degree=degree)), \n",
    "            ('scaler', StandardScaler()), \n",
    "            ('regressor', LinearRegression())\n",
    "        ]\n",
    "        pipeline = Pipeline(steps=pipeline_steps)\n",
    " \n",
    "        # train the model using X_train and y_train\n",
    "        pipeline.fit(X_train, y_train)\n",
    " \n",
    "        # Predict output for X_train \n",
    "        train_predictions = pipeline.predict(X_train)    \n",
    "        train_RMSE = mean_squared_error(y_train, train_predictions)**0.5\n",
    "        train_RMSE_list.append(train_RMSE)\n",
    " \n",
    "        # Predict output for X_test (unseen data)\n",
    "        test_predictions = pipeline.predict(X_test)    \n",
    "        test_RMSE = mean_squared_error(y_test, test_predictions)**0.5\n",
    "        test_RMSE_list.append(test_RMSE)\n",
    "    \n",
    "    error_df = pd.DataFrame(\n",
    "        {'Training RMSE': train_RMSE_list, 'Test RMSE': test_RMSE_list}, \n",
    "        index=range(1, max_degree+1)\n",
    "    )\n",
    "    error_df.index.name = 'Degree'  \n",
    "    \n",
    "    return error_df"
   ]
  },
  {
   "cell_type": "code",
   "execution_count": 23,
   "id": "6ae7182f-bc07-4732-86b5-4e1d2f5920b0",
   "metadata": {},
   "outputs": [],
   "source": [
    "error_df = build_polynomial_models(X_train, y_train, X_test, y_test,3)"
   ]
  },
  {
   "cell_type": "code",
   "execution_count": 24,
   "id": "0f500592-cfca-4a7b-a67a-994cea21b734",
   "metadata": {},
   "outputs": [
    {
     "data": {
      "text/html": [
       "<div>\n",
       "<style scoped>\n",
       "    .dataframe tbody tr th:only-of-type {\n",
       "        vertical-align: middle;\n",
       "    }\n",
       "\n",
       "    .dataframe tbody tr th {\n",
       "        vertical-align: top;\n",
       "    }\n",
       "\n",
       "    .dataframe thead th {\n",
       "        text-align: right;\n",
       "    }\n",
       "</style>\n",
       "<table border=\"1\" class=\"dataframe\">\n",
       "  <thead>\n",
       "    <tr style=\"text-align: right;\">\n",
       "      <th></th>\n",
       "      <th>Training RMSE</th>\n",
       "      <th>Test RMSE</th>\n",
       "    </tr>\n",
       "    <tr>\n",
       "      <th>Degree</th>\n",
       "      <th></th>\n",
       "      <th></th>\n",
       "    </tr>\n",
       "  </thead>\n",
       "  <tbody>\n",
       "    <tr>\n",
       "      <th>1</th>\n",
       "      <td>111.54</td>\n",
       "      <td>122.51</td>\n",
       "    </tr>\n",
       "    <tr>\n",
       "      <th>2</th>\n",
       "      <td>89.91</td>\n",
       "      <td>116.20</td>\n",
       "    </tr>\n",
       "    <tr>\n",
       "      <th>3</th>\n",
       "      <td>67.65</td>\n",
       "      <td>137.10</td>\n",
       "    </tr>\n",
       "  </tbody>\n",
       "</table>\n",
       "</div>"
      ],
      "text/plain": [
       "        Training RMSE  Test RMSE\n",
       "Degree                          \n",
       "1              111.54     122.51\n",
       "2               89.91     116.20\n",
       "3               67.65     137.10"
      ]
     },
     "execution_count": 24,
     "metadata": {},
     "output_type": "execute_result"
    }
   ],
   "source": [
    "error_df.round(2)"
   ]
  },
  {
   "cell_type": "markdown",
   "id": "e5349298-1e02-4012-8815-4f4624b0e62b",
   "metadata": {},
   "source": [
    "The results show that the polynomial rapidly becomes overfit at third order and higher. We can visualize that by plotting the training RMSE against the test RMSE."
   ]
  },
  {
   "cell_type": "code",
   "execution_count": 25,
   "id": "8bb4d486-d7e6-4f28-8c3e-c640481976b4",
   "metadata": {},
   "outputs": [
    {
     "data": {
      "image/png": "[encoded data removed]",
      "text/plain": [
       "<Figure size 640x480 with 1 Axes>"
      ]
     },
     "metadata": {},
     "output_type": "display_data"
    }
   ],
   "source": [
    "# Reset index to use \"Degree\" as a column\n",
    "error_df = error_df.reset_index()\n",
    "\n",
    "# Plot up to degree 3.\n",
    "sns.lineplot(x='Degree', y='Training RMSE', data=error_df, marker='o', label='Training RMSE')\n",
    "sns.lineplot(x='Degree', y='Test RMSE', data=error_df, marker='s', label='Test RMSE')\n",
    "\n",
    "plt.title('Polynomial Model: Degree vs Error')\n",
    "plt.xlabel('Degree')\n",
    "plt.ylabel('Root Mean Squared Error (RMSE)')\n",
    "plt.legend()\n",
    "\n",
    "# Save the plot as a PNG file\n",
    "plt.savefig('Graphics/poly_model_error.png', format='png', dpi=300)\n",
    "\n",
    "plt.show()\n"
   ]
  },
  {
   "cell_type": "markdown",
   "id": "af43733e-cdf1-4874-90f3-fc9b8b04045e",
   "metadata": {},
   "source": [
    "The optimum polynomial appears to be second order. Clearly, the sparse portrait data after 2019 (thanks, COVID!), makes fitting in this time period and projections into the future a challenge.\n",
    "\n",
    "## Predicting a Price Using a Second Order Polynomial\n",
    "Let's fit a second order polynomial to the entire data set"
   ]
  },
  {
   "cell_type": "code",
   "execution_count": 26,
   "id": "2d69e406-eeea-4c8c-9045-7c4f849cbf37",
   "metadata": {},
   "outputs": [
    {
     "name": "stdout",
     "output_type": "stream",
     "text": [
      "Intercept: -5312758.340217695\n",
      "Coefficients:\n",
      "1: 0.0\n",
      "Year: 5288.709863302076\n",
      "Area: -60.30536117705008\n",
      "NumSubjects: -39419.184523918404\n",
      "Year^2: -1.3161292986936226\n",
      "Year Area: 0.030290810859441963\n",
      "Year NumSubjects: 19.753826213429235\n",
      "Area^2: -0.0001778904048839471\n",
      "Area NumSubjects: -0.10540792452618564\n",
      "NumSubjects^2: 73.93718308278852\n",
      "R² score: 0.9086869357574229\n"
     ]
    }
   ],
   "source": [
    "# Degree of the polynomial\n",
    "degree = 2\n",
    "\n",
    "# Generate polynomial features\n",
    "poly = PolynomialFeatures(degree=degree)\n",
    "X_poly = poly.fit_transform(x1)\n",
    "\n",
    "# Fit the model\n",
    "model = LinearRegression()\n",
    "model.fit(X_poly, y1)\n",
    "\n",
    "# Get the coefficients and intercept\n",
    "coefficients = model.coef_\n",
    "intercept = model.intercept_\n",
    "\n",
    "# Get feature names\n",
    "feature_names = poly.get_feature_names_out(['Year', 'Area', 'NumSubjects'])\n",
    "\n",
    "# Predict and calculate R² score\n",
    "y_pred = model.predict(X_poly)\n",
    "r2 = r2_score(y1, y_pred)\n",
    "\n",
    "print(\"Intercept:\", intercept)\n",
    "print(\"Coefficients:\")\n",
    "for name, coef in zip(feature_names, coefficients):\n",
    "    print(f\"{name}: {coef}\")\n",
    "\n",
    "print(\"R² score:\", r2)\n"
   ]
  },
  {
   "cell_type": "markdown",
   "id": "f263169b-b6e6-4262-93d9-6759a45854b3",
   "metadata": {},
   "source": [
    "That produces an even stronger correlation than the multi-variable linear regression. An interesting result is that the model predicts a price decline in the future (the coefficient for Year^2 is negative) — this comes from a mild overfitting of the training data combined with the lack of data post 2019.\n",
    "\n",
    "Still, it might get us a price estimate in the right ballpark. As before, let's estimate the cost of a two dog portrait on a 20x24 canvas in 2025 using the coefficients that were calculated above. Unfortunately, it's much more complex than the linear calculation:"
   ]
  },
  {
   "cell_type": "code",
   "execution_count": 27,
   "id": "465b1b05-a1ad-4e57-b197-caea44648584",
   "metadata": {},
   "outputs": [
    {
     "name": "stdout",
     "output_type": "stream",
     "text": [
      "The predicted price is : $ 1740.72\n"
     ]
    }
   ],
   "source": [
    "# Put data into variables\n",
    "year = 2025\n",
    "area = 20 * 24\n",
    "num_subjects = 2\n",
    "\n",
    "# Predict price\n",
    "price = intercept + (coefficients[1] * year) + (coefficients[2] * area) + (coefficients[3] * num_subjects) + \\\n",
    "        (coefficients[4] * year * year) + (coefficients[5] * year * area) + (coefficients[6] * year * num_subjects) + \\\n",
    "        (coefficients[7] * area * area) + (coefficients[8] * area * num_subjects) + (coefficients[9] * num_subjects * num_subjects)\n",
    "\n",
    "print('The predicted price is : $', price.round(2))"
   ]
  },
  {
   "cell_type": "markdown",
   "id": "bf6ed3e0-1ed5-4cc6-a488-1593f5b69954",
   "metadata": {},
   "source": [
    "That's a very good estimate—right around where I would try to price a 20x24 two dog portrait of moderate complexity."
   ]
  },
  {
   "cell_type": "code",
   "execution_count": null,
   "id": "cbc11236-e310-4c46-a8fa-a7946108a658",
   "metadata": {},
   "outputs": [],
   "source": []
  }
 ],
 "metadata": {
  "kernelspec": {
   "display_name": "Python 3 (ipykernel)",
   "language": "python",
   "name": "python3"
  },
  "language_info": {
   "codemirror_mode": {
    "name": "ipython",
    "version": 3
   },
   "file_extension": ".py",
   "mimetype": "text/x-python",
   "name": "python",
   "nbconvert_exporter": "python",
   "pygments_lexer": "ipython3",
   "version": "3.12.7"
  }
 },
 "nbformat": 4,
 "nbformat_minor": 5
}
