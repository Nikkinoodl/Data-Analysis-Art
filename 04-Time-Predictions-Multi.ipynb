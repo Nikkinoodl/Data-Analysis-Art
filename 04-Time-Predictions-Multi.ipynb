{
 "cells": [
  {
   "cell_type": "markdown",
   "id": "03ea17a8-b6f2-4959-9cba-e7476c16dcc5",
   "metadata": {},
   "source": [
    "# A Linear Regression Analysis of PBSB Artwork Data\n",
    "This analysis uses linear regression to answer the following question: Can we estimate how long a portrait will take to complete?\n",
    "\n",
    "Data wrangling performed in the basic and advanced analysis is repeated here with minimal explanation. Some additional pre-processing of the input data was done in Excel. This dataset uses data at the order line level of detail which gives better visibility into individual pieces of art."
   ]
  },
  {
   "cell_type": "markdown",
   "id": "7e729f13-bda8-4273-99c8-dd89532746fc",
   "metadata": {},
   "source": [
    "## Import libraries"
   ]
  },
  {
   "cell_type": "code",
   "execution_count": 20,
   "id": "fb267bac-ec19-4e5d-b44e-85af230f5ab2",
   "metadata": {},
   "outputs": [],
   "source": [
    "import pandas as pd\n",
    "import matplotlib.pyplot as plt\n",
    "import seaborn as sns\n",
    "import re\n",
    "import squarify\n",
    "\n",
    "# Machine learning and regression libraries\n",
    "from sklearn import preprocessing\n",
    "from sklearn.linear_model import LinearRegression\n",
    "from sklearn.metrics import r2_score\n",
    "\n"
   ]
  },
  {
   "cell_type": "markdown",
   "id": "0dee2753-5c61-4034-9401-3e402e1c693b",
   "metadata": {},
   "source": [
    "## Import Excel file"
   ]
  },
  {
   "cell_type": "code",
   "execution_count": 21,
   "id": "df27f97a-3e98-4aa0-997d-0078efe6c1e6",
   "metadata": {},
   "outputs": [
    {
     "data": {
      "text/html": [
       "<div>\n",
       "<style scoped>\n",
       "    .dataframe tbody tr th:only-of-type {\n",
       "        vertical-align: middle;\n",
       "    }\n",
       "\n",
       "    .dataframe tbody tr th {\n",
       "        vertical-align: top;\n",
       "    }\n",
       "\n",
       "    .dataframe thead th {\n",
       "        text-align: right;\n",
       "    }\n",
       "</style>\n",
       "<table border=\"1\" class=\"dataframe\">\n",
       "  <thead>\n",
       "    <tr style=\"text-align: right;\">\n",
       "      <th></th>\n",
       "      <th>CustomerID</th>\n",
       "      <th>PortraitID</th>\n",
       "      <th>ServiceType</th>\n",
       "      <th>PortraitSubject</th>\n",
       "      <th>NumSubjects</th>\n",
       "      <th>Medium</th>\n",
       "      <th>SaleDate</th>\n",
       "      <th>Size</th>\n",
       "      <th>Frame</th>\n",
       "      <th>CompletedDate</th>\n",
       "      <th>ActualTime</th>\n",
       "      <th>Price</th>\n",
       "      <th>PromisedBy</th>\n",
       "    </tr>\n",
       "  </thead>\n",
       "  <tbody>\n",
       "    <tr>\n",
       "      <th>0</th>\n",
       "      <td>8</td>\n",
       "      <td>10</td>\n",
       "      <td>Commission</td>\n",
       "      <td>People</td>\n",
       "      <td>1.0</td>\n",
       "      <td>Graphite</td>\n",
       "      <td>2003-04-01</td>\n",
       "      <td>11x14</td>\n",
       "      <td>NaN</td>\n",
       "      <td>2003-04-15</td>\n",
       "      <td>16</td>\n",
       "      <td>0.0</td>\n",
       "      <td>2003-04-15</td>\n",
       "    </tr>\n",
       "    <tr>\n",
       "      <th>1</th>\n",
       "      <td>6</td>\n",
       "      <td>12</td>\n",
       "      <td>Commission</td>\n",
       "      <td>House/dwelling</td>\n",
       "      <td>1.0</td>\n",
       "      <td>Pen &amp; Ink / Watercolor</td>\n",
       "      <td>2003-04-01</td>\n",
       "      <td>11x14</td>\n",
       "      <td>NaN</td>\n",
       "      <td>NaT</td>\n",
       "      <td>5</td>\n",
       "      <td>0.0</td>\n",
       "      <td>NaT</td>\n",
       "    </tr>\n",
       "    <tr>\n",
       "      <th>2</th>\n",
       "      <td>26</td>\n",
       "      <td>62</td>\n",
       "      <td>Commission</td>\n",
       "      <td>Dog</td>\n",
       "      <td>1.0</td>\n",
       "      <td>Acrylic</td>\n",
       "      <td>2003-10-06</td>\n",
       "      <td>11x14</td>\n",
       "      <td>NaN</td>\n",
       "      <td>2003-11-09</td>\n",
       "      <td>4</td>\n",
       "      <td>0.0</td>\n",
       "      <td>2003-11-30</td>\n",
       "    </tr>\n",
       "    <tr>\n",
       "      <th>3</th>\n",
       "      <td>68</td>\n",
       "      <td>116</td>\n",
       "      <td>Commission</td>\n",
       "      <td>Dog</td>\n",
       "      <td>1.0</td>\n",
       "      <td>Pastel</td>\n",
       "      <td>2004-10-10</td>\n",
       "      <td>16x20</td>\n",
       "      <td>NaN</td>\n",
       "      <td>NaT</td>\n",
       "      <td>0</td>\n",
       "      <td>0.0</td>\n",
       "      <td>NaT</td>\n",
       "    </tr>\n",
       "    <tr>\n",
       "      <th>4</th>\n",
       "      <td>86</td>\n",
       "      <td>137</td>\n",
       "      <td>Commission</td>\n",
       "      <td>Dog</td>\n",
       "      <td>1.0</td>\n",
       "      <td>Oil</td>\n",
       "      <td>2005-06-08</td>\n",
       "      <td>24x30</td>\n",
       "      <td>NaN</td>\n",
       "      <td>NaT</td>\n",
       "      <td>0</td>\n",
       "      <td>0.0</td>\n",
       "      <td>2005-09-30</td>\n",
       "    </tr>\n",
       "  </tbody>\n",
       "</table>\n",
       "</div>"
      ],
      "text/plain": [
       "   CustomerID  PortraitID ServiceType PortraitSubject  NumSubjects  \\\n",
       "0           8          10  Commission          People          1.0   \n",
       "1           6          12  Commission  House/dwelling          1.0   \n",
       "2          26          62  Commission             Dog          1.0   \n",
       "3          68         116  Commission             Dog          1.0   \n",
       "4          86         137  Commission             Dog          1.0   \n",
       "\n",
       "                   Medium   SaleDate   Size Frame CompletedDate  ActualTime  \\\n",
       "0                Graphite 2003-04-01  11x14   NaN    2003-04-15          16   \n",
       "1  Pen & Ink / Watercolor 2003-04-01  11x14   NaN           NaT           5   \n",
       "2                 Acrylic 2003-10-06  11x14   NaN    2003-11-09           4   \n",
       "3                  Pastel 2004-10-10  16x20   NaN           NaT           0   \n",
       "4                     Oil 2005-06-08  24x30   NaN           NaT           0   \n",
       "\n",
       "   Price PromisedBy  \n",
       "0    0.0 2003-04-15  \n",
       "1    0.0        NaT  \n",
       "2    0.0 2003-11-30  \n",
       "3    0.0        NaT  \n",
       "4    0.0 2005-09-30  "
      ]
     },
     "execution_count": 21,
     "metadata": {},
     "output_type": "execute_result"
    }
   ],
   "source": [
    "# Define the URL of the dataset - in this case we are using a dataset that has been uploaded to OneDrive and shared\n",
    "#file_path = 'C:\\\\Users\\\\simon\\\\OneDrive\\\\Documents\\\\Data Analysis\\\\Art\\\\Artwork-Items.xlsx'\n",
    "\n",
    "# Load the dataset into a DataFrame\n",
    "df = pd.read_excel('Data/Artwork-Items-Reg.xlsx')\n",
    "\n",
    "# Display the first few rows to ensure it loaded correctly\n",
    "df.head()"
   ]
  },
  {
   "cell_type": "markdown",
   "id": "784d0d43-03fe-41fd-aa9b-fff51bf57d66",
   "metadata": {},
   "source": [
    "## Basic Data Cleanup\n",
    "Unlike the price data used in previous analyses, the item price data is already formatted as a number and doesn't need further manipulation. There are still some rows with missing values which must be removed."
   ]
  },
  {
   "cell_type": "code",
   "execution_count": 22,
   "id": "52206125-923d-46ca-9d95-3497e6824bcf",
   "metadata": {},
   "outputs": [],
   "source": [
    "# Drop the rows with no order date and no sale type\n",
    "df = df.dropna(subset=['SaleDate'])\n"
   ]
  },
  {
   "cell_type": "code",
   "execution_count": 23,
   "id": "24ed41f2-70ff-4ac8-a544-6c200db3bdb4",
   "metadata": {},
   "outputs": [],
   "source": [
    "# Filter out rows with 'Price' == 0 or 'ActualTime' == 0\n",
    "df = df[(df['Price'] > 100)]\n",
    "df = df[(df['ActualTime'] > 0)]"
   ]
  },
  {
   "cell_type": "code",
   "execution_count": 24,
   "id": "8892daef-38e7-44d1-87e7-12b130d4d044",
   "metadata": {},
   "outputs": [],
   "source": [
    "# Filter out any records which dont have 'ServiceType' == 'Commission' or 'ServiceType' == 'Artwork sale'\n",
    "df = df[(df['ServiceType'] == 'Commission') | (df['ServiceType'] == 'Artwork sale')] "
   ]
  },
  {
   "cell_type": "code",
   "execution_count": 25,
   "id": "0ed091c2-0859-4352-a215-64e0d08100fd",
   "metadata": {},
   "outputs": [
    {
     "data": {
      "text/html": [
       "<div>\n",
       "<style scoped>\n",
       "    .dataframe tbody tr th:only-of-type {\n",
       "        vertical-align: middle;\n",
       "    }\n",
       "\n",
       "    .dataframe tbody tr th {\n",
       "        vertical-align: top;\n",
       "    }\n",
       "\n",
       "    .dataframe thead th {\n",
       "        text-align: right;\n",
       "    }\n",
       "</style>\n",
       "<table border=\"1\" class=\"dataframe\">\n",
       "  <thead>\n",
       "    <tr style=\"text-align: right;\">\n",
       "      <th></th>\n",
       "      <th>CustomerID</th>\n",
       "      <th>PortraitID</th>\n",
       "      <th>ServiceType</th>\n",
       "      <th>PortraitSubject</th>\n",
       "      <th>NumSubjects</th>\n",
       "      <th>Medium</th>\n",
       "      <th>SaleDate</th>\n",
       "      <th>Size</th>\n",
       "      <th>Frame</th>\n",
       "      <th>CompletedDate</th>\n",
       "      <th>ActualTime</th>\n",
       "      <th>Price</th>\n",
       "      <th>PromisedBy</th>\n",
       "    </tr>\n",
       "  </thead>\n",
       "  <tbody>\n",
       "    <tr>\n",
       "      <th>114</th>\n",
       "      <td>311</td>\n",
       "      <td>624</td>\n",
       "      <td>Artwork sale</td>\n",
       "      <td>NaN</td>\n",
       "      <td>0.0</td>\n",
       "      <td>NaN</td>\n",
       "      <td>2019-11-10 00:00:00</td>\n",
       "      <td>6x12</td>\n",
       "      <td>Framed</td>\n",
       "      <td>2019-03-31</td>\n",
       "      <td>8</td>\n",
       "      <td>113.53</td>\n",
       "      <td>NaT</td>\n",
       "    </tr>\n",
       "    <tr>\n",
       "      <th>116</th>\n",
       "      <td>208</td>\n",
       "      <td>304</td>\n",
       "      <td>Artwork sale</td>\n",
       "      <td>Landscape</td>\n",
       "      <td>0.0</td>\n",
       "      <td>Oil</td>\n",
       "      <td>2011-10-02 15:15:15</td>\n",
       "      <td>18x28</td>\n",
       "      <td>NaN</td>\n",
       "      <td>2010-08-31</td>\n",
       "      <td>20</td>\n",
       "      <td>120.00</td>\n",
       "      <td>NaT</td>\n",
       "    </tr>\n",
       "    <tr>\n",
       "      <th>117</th>\n",
       "      <td>215</td>\n",
       "      <td>370</td>\n",
       "      <td>Artwork sale</td>\n",
       "      <td>Landscape</td>\n",
       "      <td>0.0</td>\n",
       "      <td>Oil</td>\n",
       "      <td>2014-05-25 15:44:54</td>\n",
       "      <td>6x8</td>\n",
       "      <td>NaN</td>\n",
       "      <td>2014-03-30</td>\n",
       "      <td>2</td>\n",
       "      <td>120.00</td>\n",
       "      <td>NaT</td>\n",
       "    </tr>\n",
       "    <tr>\n",
       "      <th>118</th>\n",
       "      <td>21</td>\n",
       "      <td>68</td>\n",
       "      <td>Commission</td>\n",
       "      <td>Person</td>\n",
       "      <td>1.0</td>\n",
       "      <td>Color Pencil</td>\n",
       "      <td>2003-11-15 00:00:00</td>\n",
       "      <td>8x10</td>\n",
       "      <td>NaN</td>\n",
       "      <td>2003-12-07</td>\n",
       "      <td>8</td>\n",
       "      <td>125.00</td>\n",
       "      <td>2003-12-15</td>\n",
       "    </tr>\n",
       "    <tr>\n",
       "      <th>120</th>\n",
       "      <td>254</td>\n",
       "      <td>383</td>\n",
       "      <td>Artwork sale</td>\n",
       "      <td>Landscape</td>\n",
       "      <td>0.0</td>\n",
       "      <td>Oil</td>\n",
       "      <td>2014-06-22 09:16:00</td>\n",
       "      <td>10x8</td>\n",
       "      <td>NaN</td>\n",
       "      <td>2014-06-15</td>\n",
       "      <td>4</td>\n",
       "      <td>125.00</td>\n",
       "      <td>NaT</td>\n",
       "    </tr>\n",
       "  </tbody>\n",
       "</table>\n",
       "</div>"
      ],
      "text/plain": [
       "     CustomerID  PortraitID   ServiceType PortraitSubject  NumSubjects  \\\n",
       "114         311         624  Artwork sale             NaN          0.0   \n",
       "116         208         304  Artwork sale       Landscape          0.0   \n",
       "117         215         370  Artwork sale       Landscape          0.0   \n",
       "118          21          68    Commission          Person          1.0   \n",
       "120         254         383  Artwork sale       Landscape          0.0   \n",
       "\n",
       "           Medium            SaleDate   Size   Frame CompletedDate  \\\n",
       "114           NaN 2019-11-10 00:00:00   6x12  Framed    2019-03-31   \n",
       "116           Oil 2011-10-02 15:15:15  18x28     NaN    2010-08-31   \n",
       "117           Oil 2014-05-25 15:44:54    6x8     NaN    2014-03-30   \n",
       "118  Color Pencil 2003-11-15 00:00:00   8x10     NaN    2003-12-07   \n",
       "120           Oil 2014-06-22 09:16:00   10x8     NaN    2014-06-15   \n",
       "\n",
       "     ActualTime   Price PromisedBy  \n",
       "114           8  113.53        NaT  \n",
       "116          20  120.00        NaT  \n",
       "117           2  120.00        NaT  \n",
       "118           8  125.00 2003-12-15  \n",
       "120           4  125.00        NaT  "
      ]
     },
     "execution_count": 25,
     "metadata": {},
     "output_type": "execute_result"
    }
   ],
   "source": [
    "df.head()"
   ]
  },
  {
   "cell_type": "markdown",
   "id": "2cbf1167-1225-4da6-858f-efae2c11ecf9",
   "metadata": {},
   "source": [
    "## Data Transformation"
   ]
  },
  {
   "cell_type": "markdown",
   "id": "f215893a-efc7-4b2c-be03-9478af898d35",
   "metadata": {},
   "source": [
    "The source data has been cleaned up since previous analyses and obvious outliers were corrected."
   ]
  },
  {
   "cell_type": "markdown",
   "id": "d79aac43-3838-410e-b9ff-f20ddb83038f",
   "metadata": {},
   "source": [
    "### Extract 'Year'\n",
    "Since the SaleDate column is already in date/time format, the Year can be extracted directly."
   ]
  },
  {
   "cell_type": "code",
   "execution_count": 26,
   "id": "788fb6be-0cf3-4c06-a4eb-230fc038c3bf",
   "metadata": {},
   "outputs": [],
   "source": [
    "# Create a Year column\n",
    "df['Year'] = df['SaleDate'].dt.year.astype(int)"
   ]
  },
  {
   "cell_type": "markdown",
   "id": "0db19770-e0d9-4f4e-a0e0-3921920d845c",
   "metadata": {},
   "source": [
    "### Calculate 'Area' for each item where possible\n",
    "Use data in the 'Size' column to calculate the area of each painting in square incheas."
   ]
  },
  {
   "cell_type": "code",
   "execution_count": 27,
   "id": "42677163-aa19-402b-8a88-8d5064935e38",
   "metadata": {},
   "outputs": [
    {
     "name": "stdout",
     "output_type": "stream",
     "text": [
      "114     72.0\n",
      "116    504.0\n",
      "117     48.0\n",
      "118     80.0\n",
      "120     80.0\n",
      "Name: Area, dtype: float64\n"
     ]
    }
   ],
   "source": [
    "# Function to calculate area from 'Size' column\n",
    "def calculate_area(size):\n",
    "    if pd.isna(size):\n",
    "        return None  \n",
    "    try:\n",
    "        # Convert the value to a string\n",
    "        size_str = str(size)\n",
    "        # Use regular expression to find the first pair of numbers (including decimals)\n",
    "        match = re.search(r'(\\d+(\\.\\d+)?)\\s*[xX*]\\s*(\\d+(\\.\\d+)?)', size_str)\n",
    "        if match:\n",
    "            height, width = map(float, match.groups()[::2])  # Extract only the numeric parts\n",
    "            return height * width\n",
    "        else:\n",
    "            return None  # Handle cases where the size format is incorrect\n",
    "    except ValueError:\n",
    "        return None  # Handle cases where the size format is incorrect\n",
    "\n",
    "# Apply the function to the 'Size' column and create a new 'Area' column\n",
    "df['Area'] = df['Size'].apply(calculate_area)\n",
    "\n",
    "# Display the DataFrame with the new 'Area' column\n",
    "print(df['Area'].head())\n",
    "\n"
   ]
  },
  {
   "cell_type": "markdown",
   "id": "705952df-f304-4e23-98f3-16c945c97f17",
   "metadata": {},
   "source": [
    "### Remove Records With 'Area' == null"
   ]
  },
  {
   "cell_type": "code",
   "execution_count": 28,
   "id": "61dacbe8-ac0b-49fb-a34f-c96c0da91904",
   "metadata": {},
   "outputs": [],
   "source": [
    "# Drop any records that don't have a useable 'Area'\n",
    "df = df.dropna(subset=['Area'])"
   ]
  },
  {
   "cell_type": "markdown",
   "id": "97055e20-92d3-4d42-99c2-52b0dd6ff283",
   "metadata": {},
   "source": [
    "### Create a Price Per Hour Feature and a Price Per Area Feature"
   ]
  },
  {
   "cell_type": "code",
   "execution_count": 29,
   "id": "fd4e058d-92c9-4a74-a7f8-0a90ff363a1f",
   "metadata": {},
   "outputs": [],
   "source": [
    "df['Price_Per_Hour'] = df['Price']/df['ActualTime']\n",
    "df['Price_Per_Area'] = df['Price']/df['Area']"
   ]
  },
  {
   "cell_type": "markdown",
   "id": "e7df2b71-5064-481a-b340-f6b2a4218e0e",
   "metadata": {},
   "source": [
    "### Separate Out Commissioned Portraits\n",
    "Create a dataframe that only contains commissioned paintings."
   ]
  },
  {
   "cell_type": "code",
   "execution_count": 30,
   "id": "163f5cf6-0e9b-4331-862e-15a6ffbcb396",
   "metadata": {},
   "outputs": [],
   "source": [
    "df_commission = df[df['ServiceType'] == 'Commission']\n",
    "df_retail = df[df['ServiceType'] == 'Artwork sale']"
   ]
  },
  {
   "cell_type": "markdown",
   "id": "e70f0786-28bf-4e5b-8cad-72acfc73a93b",
   "metadata": {},
   "source": [
    "### Drop Commission Records with Missing Dates"
   ]
  },
  {
   "cell_type": "code",
   "execution_count": 31,
   "id": "2fc25959-1c11-412c-8ce8-5bffaea54592",
   "metadata": {},
   "outputs": [],
   "source": [
    "# drop any commission records with missing dates\n",
    "df_commission = df_commission.dropna(subset=['CompletedDate'])"
   ]
  },
  {
   "cell_type": "markdown",
   "id": "ebfb3c8a-02d1-49cb-b84e-bc30db5e3e3d",
   "metadata": {},
   "source": [
    "### Filter Out Mediums Other Than Oil and Pastel\n",
    "The choice of medium has an impact on pricing and time taken to complete. We're just interested in oil and pastel portraits for this analysis as they make up the bulk of the studio output."
   ]
  },
  {
   "cell_type": "code",
   "execution_count": 32,
   "id": "83102270-03a0-4135-9402-90cd1d657052",
   "metadata": {},
   "outputs": [],
   "source": [
    "# Filter out values that don't start with 'Oil' or 'Pastel'\n",
    "df_commission = df_commission[df_commission['Medium'].str.match(r'^(Oil|Pastel)', na=False)]"
   ]
  },
  {
   "cell_type": "markdown",
   "id": "bb47d478-2268-4eaa-acea-d94a2324418c",
   "metadata": {},
   "source": [
    "### Remove Commission Records With no Subjects"
   ]
  },
  {
   "cell_type": "code",
   "execution_count": 33,
   "id": "93218ef1-4808-42d2-806d-e34279c2399a",
   "metadata": {},
   "outputs": [],
   "source": [
    "df_commission = df[df['NumSubjects'] > 0]"
   ]
  },
  {
   "cell_type": "markdown",
   "id": "858ec2a7-18bd-45d0-b24c-f0d0be275d06",
   "metadata": {},
   "source": [
    "## Linear Multi Regression"
   ]
  },
  {
   "cell_type": "markdown",
   "id": "5130afad-30ff-4878-9b3e-6ff7a41cad06",
   "metadata": {},
   "source": [
    "### Can We Predict Time to Complete?\n",
    "I'm interested in being able to estimate how long a portrait will take to complete. I could use that to help price it correctly and to figure out my studio workload with more accuracy.\n",
    "\n",
    "I have tracked the amount of time it takes to complete a portrait ever since I first started painting full-time, although I suspect that the data is really more of an estimate than an accurate reflection of reality.\n",
    "\n",
    "Portraits of people are the most time-consuming and difficult to complete, so we'll focus on those for now."
   ]
  },
  {
   "cell_type": "code",
   "execution_count": 34,
   "id": "b5e53a9e-49f4-4c43-bf04-5311d568d43e",
   "metadata": {},
   "outputs": [
    {
     "data": {
      "text/plain": [
       "(20, 17)"
      ]
     },
     "execution_count": 34,
     "metadata": {},
     "output_type": "execute_result"
    }
   ],
   "source": [
    "# Filter all portraits out of the dataframe except for those of people\n",
    "df_people = df_commission[(df_commission['PortraitSubject'] == 'Person') | (df_commission['PortraitSubject'] == 'People')]\n",
    "\n",
    "df_people.shape"
   ]
  },
  {
   "cell_type": "markdown",
   "id": "8281ea9e-689f-4555-8a33-84287aa11de6",
   "metadata": {},
   "source": [
    "Before we start regression, let's quickly plot the relationship between ActualTime and Year to confirm my suspicion that there's no direct relationship between the two.."
   ]
  },
  {
   "cell_type": "code",
   "execution_count": 35,
   "id": "aef6967f-5e72-455d-8703-1e300e8444a9",
   "metadata": {},
   "outputs": [
    {
     "data": {
      "image/png": "[encoded data removed]",
      "text/plain": [
       "<Figure size 640x480 with 1 Axes>"
      ]
     },
     "metadata": {},
     "output_type": "display_data"
    }
   ],
   "source": [
    "sns.regplot(\n",
    "    x='Year',\n",
    "    y='ActualTime',\n",
    "    data=df_people,\n",
    "    color = 'orange'\n",
    ")\n",
    "plt.title('Linear Regression of ActualTime vs Year for People Portraits')\n",
    "\n",
    "# Save the plot as a PNG file\n",
    "plt.savefig('Graphics/actual_time_vs_year.png', format='png', dpi=300)\n",
    "\n",
    "plt.show()"
   ]
  },
  {
   "cell_type": "markdown",
   "id": "825b4b6e-52df-4e4e-a97a-673be5bb4f79",
   "metadata": {},
   "source": [
    "This plot indicates there might be a direct correlation between ActualTime and Year, but I want to see if there is more meaningful relationship if we inspect the data more carefully:  I know that the time spent increases with number of subjects and with area, so lets find a way to show the trends in those over time by looking at:\n",
    "\n",
    "1. ActualTime per Area vs. Year\n",
    "2. ActualTime per Head vs. Year"
   ]
  },
  {
   "cell_type": "code",
   "execution_count": 40,
   "id": "4cf15835-428a-4c04-adc0-949dc4fb5463",
   "metadata": {},
   "outputs": [],
   "source": [
    "# Calculate time per unit area. We already know that there are no zeros remaining in the Area column.\n",
    "df_people.loc[:,'Time_Per_Area'] = df_people['ActualTime']/df_people['Area']\n",
    "\n",
    "# Calculate time per subject. We already know that there are no zeros remaining in the NumSubjects column.\n",
    "df_people.loc[:,'Time_Per_Head'] = df_people['ActualTime']/df_people['NumSubjects']"
   ]
  },
  {
   "cell_type": "markdown",
   "id": "b72f17a3-91ea-4c80-b7d7-cfcb935e4e27",
   "metadata": {},
   "source": [
    "Before we start a more complex regression, let's plot the relationships between the variables."
   ]
  },
  {
   "cell_type": "code",
   "execution_count": 37,
   "id": "32b1ec86-27ab-4ad7-a9a5-d01d804bb1c5",
   "metadata": {},
   "outputs": [
    {
     "data": {
      "image/png": "[encoded data removed]",
      "text/plain": [
       "<Figure size 1200x800 with 2 Axes>"
      ]
     },
     "metadata": {},
     "output_type": "display_data"
    }
   ],
   "source": [
    "fig, axs = plt.subplots(2, 1, figsize=(12, 8))\n",
    "\n",
    "sns.regplot(\n",
    "    x='Year',\n",
    "    y='Time_Per_Area',\n",
    "    data=df_people,\n",
    "    color = 'orange',\n",
    "    ax=axs[0]\n",
    ")\n",
    "axs[0].set_title('Completion Time Per Unit Area vs. Year for Portraits of People')\n",
    "\n",
    "sns.regplot(\n",
    "    x='Year',\n",
    "    y='Time_Per_Head',\n",
    "    data=df_people,\n",
    "    color = 'orange',\n",
    "    ax=axs[1]\n",
    ")\n",
    "axs[1].set_title('Completion Time Per Subject vs. Year for Portraits of People')\n",
    "\n",
    "plt.tight_layout()\n",
    "\n",
    "# Save the plot as a PNG file\n",
    "plt.savefig('Graphics/time_per_head_and_area_vs_year.png', format='png', dpi=300)\n",
    "\n",
    "plt.show()"
   ]
  },
  {
   "cell_type": "markdown",
   "id": "1a25ddae-c001-4999-b8d1-202a5047e68e",
   "metadata": {},
   "source": [
    "There are several outliers in the data, and I suspect that there may be some misclassification of the data that warrants further inspection.\n",
    "\n",
    "However, there is an aspect of the portrait creation process that this regression analysis misses completely: some painting projects simply take longer than others and it can be difficult to predict which ones those will be in advance."
   ]
  },
  {
   "cell_type": "code",
   "execution_count": 38,
   "id": "2aa99018-ce36-4390-bb48-7fb4abba8963",
   "metadata": {},
   "outputs": [
    {
     "name": "stdout",
     "output_type": "stream",
     "text": [
      "The R2 value is:  0.6059059359108192\n",
      "The intercept is: -5714.259688343059\n",
      "The coefficient for Year is 2.846720892057734\n",
      "The coefficient for Area is 0.05614672115382439\n",
      "The coefficient for NumSubjects is 9.431313897337578\n"
     ]
    }
   ],
   "source": [
    "#Fit linear regression to predict price using list of features\n",
    "x2=df_people[['Year', 'Area', 'NumSubjects']]\n",
    "y2=df_people['ActualTime']\n",
    "lre_multi=LinearRegression()\n",
    "lre_multi.fit(x2, y2)\n",
    "print('The R2 value is: ', lre_multi.score(x2,y2))\n",
    "\n",
    "# Get the intercept\n",
    "intercept = lre_multi.intercept_\n",
    "print(f\"The intercept is: {intercept}\")\n",
    "\n",
    "# Get the coefficients\n",
    "coefficients = lre_multi.coef_\n",
    "\n",
    "# Display the coefficients\n",
    "for feature, coef in zip(x2.columns, coefficients):\n",
    "    print(f\"The coefficient for {feature} is {coef}\")"
   ]
  },
  {
   "cell_type": "markdown",
   "id": "589c5390-0e04-4dc3-9183-34a266872679",
   "metadata": {},
   "source": [
    "We end up with a reasonably good fit for the regression. Let's check the model by estimating how long it would take to complete a portrait of 1 person on a 20x26 canvas in 2025."
   ]
  },
  {
   "cell_type": "code",
   "execution_count": 39,
   "id": "6ae7182f-bc07-4732-86b5-4e1d2f5920b0",
   "metadata": {},
   "outputs": [
    {
     "name": "stdout",
     "output_type": "stream",
     "text": [
      "The predicted time is:  89.0 hours\n"
     ]
    }
   ],
   "source": [
    "# Put data into variables\n",
    "year = 2025\n",
    "area = 20 * 26\n",
    "num_subjects = 1\n",
    "\n",
    "# Predict price\n",
    "time = intercept + coefficients[0] * year + coefficients[1] * area + coefficients[2] * num_subjects\n",
    "\n",
    "print('The predicted time is: ', time.round(1), 'hours')"
   ]
  },
  {
   "cell_type": "markdown",
   "id": "953bb20e-998c-44d8-ac98-06f37aebec41",
   "metadata": {},
   "source": [
    "That seems like a very good estimate."
   ]
  },
  {
   "cell_type": "code",
   "execution_count": null,
   "id": "9c072502-2d4d-41ec-b628-8d1f08553c5b",
   "metadata": {},
   "outputs": [],
   "source": []
  }
 ],
 "metadata": {
  "kernelspec": {
   "display_name": "Python 3 (ipykernel)",
   "language": "python",
   "name": "python3"
  },
  "language_info": {
   "codemirror_mode": {
    "name": "ipython",
    "version": 3
   },
   "file_extension": ".py",
   "mimetype": "text/x-python",
   "name": "python",
   "nbconvert_exporter": "python",
   "pygments_lexer": "ipython3",
   "version": "3.12.7"
  }
 },
 "nbformat": 4,
 "nbformat_minor": 5
}
